{
 "cells": [
  {
   "cell_type": "code",
   "execution_count": 2,
   "metadata": {},
   "outputs": [
    {
     "name": "stdout",
     "output_type": "stream",
     "text": [
      "Enter the sender's email:kolliparakavyasree@gmail.comkolliparakavyasree@gmail.com\n",
      "········\n",
      "Enter the reciever's email:kbsrkrishna@gmail.comkbsrkrishna@gmail.com\n",
      "email sent!\n"
     ]
    },
    {
     "data": {
      "text/plain": [
       "(221, b'2.0.0 closing connection k65sm13472799pfc.173 - gsmtp')"
      ]
     },
     "execution_count": 2,
     "metadata": {},
     "output_type": "execute_result"
    }
   ],
   "source": [
    "import smtplib\n",
    "import getpass\n",
    "\n",
    "#login credentials\n",
    "\n",
    "sender = input(\"Enter the sender's email:\")\n",
    "pw = getpass.getpass()\n",
    "\n",
    "#Email requisites\n",
    "\n",
    "to = input(\"Enter the reciever's email:\")\n",
    "text = 'I am learning to send a mail using python smtp library! XD'\n",
    "\n",
    "#Create Connection to gmail service\n",
    "\n",
    "server = smtplib.SMTP('smtp.gmail.com',587)\n",
    "server.ehlo() #Say hello to server to establish connection\n",
    "server.starttls() #Enables tls encryption for the connection\n",
    "server.login(sender,pw)\n",
    "\n",
    "#Sending email\n",
    "try:\n",
    "    server.sendmail(sender,[to],text)\n",
    "    print('email sent!')\n",
    "except:\n",
    "    print('error sending mail!')\n",
    "    \n",
    "server.quit()\n"
   ]
  },
  {
   "cell_type": "code",
   "execution_count": null,
   "metadata": {
    "collapsed": true
   },
   "outputs": [],
   "source": []
  }
 ],
 "metadata": {
  "kernelspec": {
   "display_name": "Python 3",
   "language": "python",
   "name": "python3"
  },
  "language_info": {
   "codemirror_mode": {
    "name": "ipython",
    "version": 3
   },
   "file_extension": ".py",
   "mimetype": "text/x-python",
   "name": "python",
   "nbconvert_exporter": "python",
   "pygments_lexer": "ipython3",
   "version": "3.6.1"
  }
 },
 "nbformat": 4,
 "nbformat_minor": 2
}
